{
 "cells": [
  {
   "cell_type": "code",
   "execution_count": null,
   "id": "67d10829-10cd-484a-8c29-02cd72e6b5cb",
   "metadata": {},
   "outputs": [],
   "source": [
    "!pip install requests"
   ]
  },
  {
   "cell_type": "code",
   "execution_count": 12,
   "id": "226c6a10-1e11-401d-a7f9-07fb29909c97",
   "metadata": {},
   "outputs": [],
   "source": [
    "import requests\n",
    "import tkinter as tk\n",
    "from tkinter import messagebox\n",
    "\n",
    "# OpenWeatherMap API key (replace with your own key)\n",
    "API_KEY = open(\"API key.txt\",'r').read()\n",
    "\n",
    "def get_weather():\n",
    "    \"\"\"Fetch and display weather details.\"\"\"\n",
    "    city = city_entry.get().strip()\n",
    "    \n",
    "    if not city:\n",
    "        messagebox.showerror(\"Error\", \"Please enter a city name.\")\n",
    "        return\n",
    "    \n",
    "    response = requests.get(f'http://api.openweathermap.org/data/2.5/weather?q={city}&units=metric&appid={API_KEY}')\n",
    "    \n",
    "    if response.status_code == 200:\n",
    "        data = response.json()\n",
    "        weather_info = (\n",
    "            f\"\\n\"  # Adding some space to separate the weather information from the input section\n",
    "            f\"City: \\t\\t{data['name']}\\n\"\n",
    "            f\"Temperature: \\t{data['main']['temp']}°C\\n\"\n",
    "            f\"Humidity: \\t\\t{data['main']['humidity']}%\\n\"\n",
    "            f\"Condition: \\t{data['weather'][0]['description'].title()}\\n\"\n",
    "            f\"Wind Speed: \\t{data['wind']['speed']} m/s\\n\"\n",
    "            f\"Feels Like: \\t{data['main']['feels_like']}°C\"\n",
    "        )\n",
    "        # Update the weather_label with a cleaner and more structured format\n",
    "        weather_label.config(text=weather_info, font=(\"Arial\", 12), justify=\"left\", padx=10, pady=10)\n",
    "    else:\n",
    "        messagebox.showerror(\"Error\", \"City not found or API issue. Try again.\")\n",
    "\n",
    "# Create main window\n",
    "root = tk.Tk()\n",
    "root.title(\"Weather App\")\n",
    "root.geometry(\"400x350\")  # Increased window size for better readability\n",
    "root.resizable(False, False)\n",
    "\n",
    "# City input field\n",
    "tk.Label(root, text=\"Enter City:\", font=(\"Arial\", 14)).pack(pady=10)\n",
    "city_entry = tk.Entry(root, font=(\"Arial\", 12), width=30)\n",
    "city_entry.pack(pady=5)\n",
    "\n",
    "# Fetch button\n",
    "tk.Button(root, text=\"Get Weather\", font=(\"Arial\", 12), command=get_weather).pack(pady=10)\n",
    "\n",
    "# Weather display label\n",
    "weather_label = tk.Label(root, text=\"\", font=(\"Arial\", 12), justify=\"left\")\n",
    "weather_label.pack(pady=10, padx=20)\n",
    "\n",
    "# Run the GUI\n",
    "root.mainloop()\n"
   ]
  },
  {
   "cell_type": "code",
   "execution_count": null,
   "id": "f93a071f-fb45-4636-9455-59d3a757901e",
   "metadata": {},
   "outputs": [],
   "source": []
  }
 ],
 "metadata": {
  "kernelspec": {
   "display_name": "Python 3 (ipykernel)",
   "language": "python",
   "name": "python3"
  },
  "language_info": {
   "codemirror_mode": {
    "name": "ipython",
    "version": 3
   },
   "file_extension": ".py",
   "mimetype": "text/x-python",
   "name": "python",
   "nbconvert_exporter": "python",
   "pygments_lexer": "ipython3",
   "version": "3.12.3"
  }
 },
 "nbformat": 4,
 "nbformat_minor": 5
}
